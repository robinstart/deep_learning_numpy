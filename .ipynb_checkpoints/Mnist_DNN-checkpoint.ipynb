{
 "cells": [
  {
   "cell_type": "markdown",
   "metadata": {},
   "source": [
    "# Mnist with DNN (Three layer Neural Network)"
   ]
  },
  {
   "cell_type": "code",
   "execution_count": 1,
   "metadata": {},
   "outputs": [],
   "source": [
    "import numpy as np\n",
    "import matplotlib.pyplot as plt\n",
    "import seaborn as sns; sns.set()\n",
    "from layer import dense, softmax_with_cross_entropy_error\n",
    "from optimizer import GDoptimizer, Momentum_optimizer, Adagrad_optimizer, RMSprop_optimizer, Adam_optimizer\n",
    "from actfunc import relu\n",
    "from etcfunc import get_batch\n",
    "from mnist.load_mnist import mnist"
   ]
  },
  {
   "cell_type": "markdown",
   "metadata": {},
   "source": [
    "#### load Mnist"
   ]
  },
  {
   "cell_type": "code",
   "execution_count": 2,
   "metadata": {},
   "outputs": [],
   "source": [
    "mnist = mnist()"
   ]
  },
  {
   "cell_type": "markdown",
   "metadata": {},
   "source": [
    "## hyperparameter"
   ]
  },
  {
   "cell_type": "code",
   "execution_count": 3,
   "metadata": {},
   "outputs": [],
   "source": [
    "learning_rate = 0.001 # when learning_rate is over 0.002 overflow occur\n",
    "momentum = 0.9\n",
    "decay = 0.999\n",
    "batch_size = 64\n",
    "iteration = 50000\n",
    "input_size = 28 * 28\n",
    "layer1_output = 128\n",
    "layer2_output = 64\n",
    "layer3_output = 32\n",
    "layer4_output = 10"
   ]
  },
  {
   "cell_type": "markdown",
   "metadata": {},
   "source": [
    "## Three layer Model"
   ]
  },
  {
   "cell_type": "code",
   "execution_count": 4,
   "metadata": {},
   "outputs": [],
   "source": [
    "class model():\n",
    "    def __init__(self):\n",
    "        self.layers = []\n",
    "        self.layers.append(dense(input_size, layer1_output, activation=relu, name=\"layer1\"))\n",
    "        self.layers.append(dense(layer1_output, layer2_output, activation=relu, name=\"layer2\"))\n",
    "        self.layers.append(dense(layer2_output, layer3_output, name=\"layer3\"))\n",
    "        self.layers.append(dense(layer3_output, layer4_output, name=\"layer4\"))\n",
    "        self.errorfunc = softmax_with_cross_entropy_error()\n",
    "        \n",
    "    def predict(self, X):\n",
    "        for layer in self.layers:\n",
    "            X = layer.forward(X)\n",
    "        return X\n",
    "    \n",
    "    def loss(self, X, t):\n",
    "        return self.errorfunc.forward(self.predict(X), t)\n",
    "    \n",
    "    def backward(self):\n",
    "        dout = self.errorfunc.backward()\n",
    "        for layer in self.layers[::-1]:\n",
    "            dout = layer.backward(dout)"
   ]
  },
  {
   "cell_type": "code",
   "execution_count": 5,
   "metadata": {},
   "outputs": [],
   "source": [
    "model = model()\n",
    "#optimizer = GDoptimizer(learning_rate)\n",
    "#optimizer = Momentum_optimizer(learning_rate=learning_rate, momentum=momentum)\n",
    "#optimizer = Adagrad_optimizer(learning_rate=learning_rate)\n",
    "#optimizer = RMSprop_optimizer(learning_rate=learning_rate, decay=decay) # RMSprop usually defeat by Adagrad or other algorithm when model is small\n",
    "optimizer = Adam_optimizer(learning_rate=learning_rate, momentum=momentum, decay=decay)"
   ]
  },
  {
   "cell_type": "markdown",
   "metadata": {},
   "source": [
    "## Start training"
   ]
  },
  {
   "cell_type": "code",
   "execution_count": 6,
   "metadata": {},
   "outputs": [],
   "source": [
    "loss_list =[]\n",
    "for i in range(iteration):\n",
    "    X, y = get_batch(mnist.train_images, mnist.train_labels, batchsize=batch_size)\n",
    "    loss_list.append(model.loss(X, y))\n",
    "    model.backward()\n",
    "    optimizer.minimize(model.layers)"
   ]
  },
  {
   "cell_type": "markdown",
   "metadata": {},
   "source": [
    "### loss and accuracy"
   ]
  },
  {
   "cell_type": "code",
   "execution_count": 7,
   "metadata": {},
   "outputs": [
    {
     "data": {
      "image/png": "[encoded data removed]",
      "text/plain": [
       "<Figure size 432x288 with 1 Axes>"
      ]
     },
     "metadata": {
      "needs_background": "light"
     },
     "output_type": "display_data"
    }
   ],
   "source": [
    "plt.plot(loss_list);"
   ]
  },
  {
   "cell_type": "code",
   "execution_count": 8,
   "metadata": {},
   "outputs": [
    {
     "name": "stdout",
     "output_type": "stream",
     "text": [
      "accuracy: 0.1135\n"
     ]
    }
   ],
   "source": [
    "#np.argmax(model.predict(mnist.test_images), axis=1)\n",
    "predict = np.argmax(model.predict(mnist.test_images), axis=1)\n",
    "labels = np.argmax(mnist.test_labels, axis=1)\n",
    "print(\"accuracy:\", len(predict[predict == labels]) / len(predict))"
   ]
  }
 ],
 "metadata": {
  "kernelspec": {
   "display_name": "Python 3",
   "language": "python",
   "name": "python3"
  },
  "language_info": {
   "codemirror_mode": {
    "name": "ipython",
    "version": 3
   },
   "file_extension": ".py",
   "mimetype": "text/x-python",
   "name": "python",
   "nbconvert_exporter": "python",
   "pygments_lexer": "ipython3",
   "version": "3.6.7"
  }
 },
 "nbformat": 4,
 "nbformat_minor": 2
}

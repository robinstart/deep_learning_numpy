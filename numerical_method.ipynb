{
 "cells": [
  {
   "cell_type": "code",
   "execution_count": 1,
   "metadata": {},
   "outputs": [],
   "source": [
    "import numpy as np\n",
    "import matplotlib.pyplot as plt\n",
    "import seaborn as sns; sns.set()\n",
    "import pandas as pd\n",
    "%matplotlib inline\n",
    "from actfunc import *\n",
    "from layer import *\n",
    "from errorfunc import *\n",
    "from mnist.load_mnist import mnist\n",
    "from etcfunc import *"
   ]
  },
  {
   "cell_type": "code",
   "execution_count": 2,
   "metadata": {},
   "outputs": [],
   "source": [
    "mnist = mnist()"
   ]
  },
  {
   "cell_type": "code",
   "execution_count": 5,
   "metadata": {},
   "outputs": [],
   "source": [
    "class network():\n",
    "    def __init__(self, input_size, hidden_size, output_size, weight_init_std=0.01):\n",
    "        self.params = {}\n",
    "        self.params[\"W1\"] = weight_init_std * np.random.randn(input_size, hidden_size)\n",
    "        self.params[\"b1\"] = np.zeros(hidden_size).reshape((1, -1))\n",
    "        self.params[\"W2\"] = weight_init_std * np.random.randn(hidden_size, output_size)\n",
    "        self.params[\"b2\"] = np.zeros(output_size).reshape((1, -1))\n",
    "        \n",
    "    def forward(self, X):\n",
    "        a1 = X @ self.params[\"W1\"] + self.params[\"b1\"]\n",
    "        z1 = sigmoid(a1)\n",
    "        a2 = z1 @ self.params[\"W2\"] + self.params[\"b2\"]\n",
    "        return softmax(a2)\n",
    "    \n",
    "    def loss(self, X, y):\n",
    "        y_fit = self.forward(X)\n",
    "        return cross_entropy_error(y_fit, y)\n",
    "    \n",
    "    def gradient(self, X, t):\n",
    "        loss_W = lambda W: self.loss(X, t)\n",
    "        \n",
    "        grads = {}\n",
    "        grads[\"W1\"] = numerial_gradient(loss_W, self.params[\"W1\"])\n",
    "        grads[\"b1\"] = numerial_gradient(loss_W, self.params[\"b1\"])\n",
    "        grads[\"W2\"] = numerial_gradient(loss_W, self.params[\"W2\"])\n",
    "        grads[\"b2\"] = numerial_gradient(loss_W, self.params[\"b2\"])\n",
    "        \n",
    "        return grads\n",
    "    \n",
    "    def accurary(self, X, t):\n",
    "        y = self.forward(X)\n",
    "        y = y.argmax(axis=1)\n",
    "        t = t.argmax(axis=1)\n",
    "        \n",
    "        return np.sum(y == t) / float(X.shape[0])"
   ]
  },
  {
   "cell_type": "code",
   "execution_count": 6,
   "metadata": {},
   "outputs": [],
   "source": [
    "network = network(784, 100, 10)\n",
    "loss = []"
   ]
  },
  {
   "cell_type": "code",
   "execution_count": null,
   "metadata": {},
   "outputs": [
    {
     "name": "stdout",
     "output_type": "stream",
     "text": [
      "0: 0.4396431298959381\n",
      "1: 0.4442638860455993\n",
      "2: 0.4420585464894538\n",
      "3: 0.44017967516703493\n",
      "4: 0.4405075661439457\n",
      "5: 0.43525693000187327\n",
      "6: 0.43923375048943536\n",
      "7: 0.44577710931696474\n",
      "8: 0.433003670706252\n",
      "9: 0.437342496726895\n",
      "10: 0.43763635454062\n",
      "11: 0.43969832054684216\n",
      "12: 0.43399011483585015\n",
      "13: 0.4424403190867663\n",
      "14: 0.43393185566566156\n",
      "15: 0.4401008982731852\n",
      "16: 0.43738325500266473\n",
      "17: 0.4381589850081909\n",
      "18: 0.43442763184913835\n",
      "19: 0.4364183919588786\n",
      "20: 0.4416358354154002\n",
      "21: 0.4385331322892417\n",
      "22: 0.43589791605447115\n",
      "23: 0.43626696642627555\n",
      "24: 0.44055644599440724\n",
      "25: 0.4333025772578886\n",
      "26: 0.4318364692295934\n",
      "27: 0.4387352968841462\n",
      "28: 0.44209838700872306\n",
      "29: 0.4395511896100384\n",
      "30: 0.43677053695108337\n",
      "31: 0.4362055050101558\n",
      "32: 0.4364872981065256\n",
      "33: 0.4367630797552967\n",
      "34: 0.4416225033515165\n",
      "35: 0.4372407587394326\n"
     ]
    }
   ],
   "source": [
    "learning_rate = 0.01\n",
    "for i in range(200):\n",
    "    X, y = get_batch(mnist.train_images, mnist.train_labels, batchsize=8)\n",
    "    grads = network.gradient(X, y)\n",
    "    for key in [\"W1\", \"b1\", \"W2\", \"b2\"]:\n",
    "        network.params[key] -= learning_rate * grads[key]\n",
    "        \n",
    "    loss_tmp = network.loss(X, y[-1, np.newaxis])\n",
    "    print(\"{}: {}\".format(i, loss_tmp))\n",
    "    loss.append(loss_tmp)"
   ]
  },
  {
   "cell_type": "code",
   "execution_count": 10,
   "metadata": {},
   "outputs": [
    {
     "name": "stdout",
     "output_type": "stream",
     "text": [
      "accuracy: 0.4495\n"
     ]
    },
    {
     "data": {
      "image/png": "[encoded data removed]",
      "text/plain": [
       "<Figure size 432x288 with 1 Axes>"
      ]
     },
     "metadata": {
      "needs_background": "light"
     },
     "output_type": "display_data"
    }
   ],
   "source": [
    "print(\"accuracy:\", network.accurary(mnist.test_images, mnist.test_labels))\n",
    "plt.plot(loss)\n",
    "plt.ylim((0, None));"
   ]
  },
  {
   "cell_type": "markdown",
   "metadata": {},
   "source": [
    "# Failed !!!"
   ]
  },
  {
   "cell_type": "code",
   "execution_count": 29,
   "metadata": {},
   "outputs": [],
   "source": [
    "class momentum_optimizer():\n",
    "    def __init__(self, learning_rate=0.1, beta=0.9):\n",
    "        self.learning_rate = learning_rate\n",
    "        self.beta = beta\n",
    "        self.v = None\n",
    "        \n",
    "    def minimize(self, func, W, i):\n",
    "        if self.v is None:\n",
    "            self.v = np.zeros_like(W)\n",
    "        grads = numerial_gradient(func, W)\n",
    "        self.v = (1 / (1 - self.beta ** (i + 1))) * ((1 - self.beta) * grads + self.beta * self.v)\n",
    "        W -= self.learning_rate * self.v"
   ]
  }
 ],
 "metadata": {
  "kernelspec": {
   "display_name": "Python 3",
   "language": "python",
   "name": "python3"
  },
  "language_info": {
   "codemirror_mode": {
    "name": "ipython",
    "version": 3
   },
   "file_extension": ".py",
   "mimetype": "text/x-python",
   "name": "python",
   "nbconvert_exporter": "python",
   "pygments_lexer": "ipython3",
   "version": "3.6.7"
  }
 },
 "nbformat": 4,
 "nbformat_minor": 2
}
